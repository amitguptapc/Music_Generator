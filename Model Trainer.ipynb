{
  "nbformat": 4,
  "nbformat_minor": 0,
  "metadata": {
    "colab": {
      "name": "Music Generator.ipynb",
      "provenance": [],
      "toc_visible": true
    },
    "kernelspec": {
      "name": "python3",
      "display_name": "Python 3"
    },
    "accelerator": "GPU"
  },
  "cells": [
    {
      "cell_type": "code",
      "metadata": {
        "id": "pEqtZDTI4QZp",
        "colab_type": "code",
        "outputId": "0638533b-6f6b-4400-a79a-90e8da26cb79",
        "colab": {
          "base_uri": "https://localhost:8080/",
          "height": 34
        }
      },
      "source": [
        "import pickle\n",
        "import numpy as np\n",
        "from tensorflow.keras.models import Sequential, load_model\n",
        "from tensorflow.keras.layers import *\n",
        "from tensorflow.keras.callbacks import ModelCheckpoint\n",
        "from keras.utils import np_utils"
      ],
      "execution_count": 1,
      "outputs": [
        {
          "output_type": "stream",
          "text": [
            "Using TensorFlow backend.\n"
          ],
          "name": "stderr"
        }
      ]
    },
    {
      "cell_type": "code",
      "metadata": {
        "id": "BK-1BS8A5Frf",
        "colab_type": "code",
        "colab": {}
      },
      "source": [
        "with open('./drive/My Drive/Music Generator/notes.pkl','rb') as f:\n",
        "  notes = pickle.load(f)"
      ],
      "execution_count": 0,
      "outputs": []
    },
    {
      "cell_type": "code",
      "metadata": {
        "id": "HS0H1gdp5yA3",
        "colab_type": "code",
        "colab": {}
      },
      "source": [
        "seq_len = 100\n",
        "classes = sorted(set(notes)) \n",
        "note2int = dict((e,num) for num,e in enumerate(classes))"
      ],
      "execution_count": 0,
      "outputs": []
    },
    {
      "cell_type": "code",
      "metadata": {
        "id": "R7m8y-Xr6OeF",
        "colab_type": "code",
        "colab": {}
      },
      "source": [
        "X = []\n",
        "Y = []\n",
        "for i in range(len(notes)-seq_len):\n",
        "  inp = notes[i:i+seq_len]\n",
        "  out = notes[i+seq_len]\n",
        "  X.append([note2int[note] for note in inp])\n",
        "  Y.append(note2int[out])"
      ],
      "execution_count": 0,
      "outputs": []
    },
    {
      "cell_type": "code",
      "metadata": {
        "id": "XsSfRtvA6Wd3",
        "colab_type": "code",
        "colab": {}
      },
      "source": [
        "n_vocab = len(classes)\n",
        "X = np.reshape(X,(len(X),seq_len,1))\n",
        "normalized_X = X/float(n_vocab)\n",
        "Y = np_utils.to_categorical(Y)"
      ],
      "execution_count": 0,
      "outputs": []
    },
    {
      "cell_type": "markdown",
      "metadata": {
        "id": "gjLV58kw6pwz",
        "colab_type": "text"
      },
      "source": [
        "### Model Architecture"
      ]
    },
    {
      "cell_type": "code",
      "metadata": {
        "id": "DpitLiPw6kG5",
        "colab_type": "code",
        "outputId": "16fbcba5-6591-47c5-a491-71f791a5ce1e",
        "colab": {
          "base_uri": "https://localhost:8080/",
          "height": 425
        }
      },
      "source": [
        "model = Sequential()\n",
        "model.add(LSTM(units=512,input_shape=normalized_X.shape[1:],return_sequences=True))\n",
        "model.add(Dropout(0.3))\n",
        "model.add(LSTM(units=512,return_sequences=True))\n",
        "model.add(Dropout(0.3))\n",
        "model.add(LSTM(units=512))\n",
        "model.add(Dense(256))\n",
        "model.add(Dropout(0.3))\n",
        "model.add(Dense(n_vocab,activation='softmax'))\n",
        "model.compile(loss='categorical_crossentropy',optimizer='adam')\n",
        "model.summary()"
      ],
      "execution_count": 12,
      "outputs": [
        {
          "output_type": "stream",
          "text": [
            "Model: \"sequential_1\"\n",
            "_________________________________________________________________\n",
            "Layer (type)                 Output Shape              Param #   \n",
            "=================================================================\n",
            "lstm_3 (LSTM)                (None, 100, 512)          1052672   \n",
            "_________________________________________________________________\n",
            "dropout_3 (Dropout)          (None, 100, 512)          0         \n",
            "_________________________________________________________________\n",
            "lstm_4 (LSTM)                (None, 100, 512)          2099200   \n",
            "_________________________________________________________________\n",
            "dropout_4 (Dropout)          (None, 100, 512)          0         \n",
            "_________________________________________________________________\n",
            "lstm_5 (LSTM)                (None, 512)               2099200   \n",
            "_________________________________________________________________\n",
            "dense_2 (Dense)              (None, 256)               131328    \n",
            "_________________________________________________________________\n",
            "dropout_5 (Dropout)          (None, 256)               0         \n",
            "_________________________________________________________________\n",
            "dense_3 (Dense)              (None, 359)               92263     \n",
            "=================================================================\n",
            "Total params: 5,474,663\n",
            "Trainable params: 5,474,663\n",
            "Non-trainable params: 0\n",
            "_________________________________________________________________\n"
          ],
          "name": "stdout"
        }
      ]
    },
    {
      "cell_type": "code",
      "metadata": {
        "id": "J8RwIIhB6uub",
        "colab_type": "code",
        "outputId": "605354ff-7f13-4666-f324-550143504d63",
        "colab": {
          "base_uri": "https://localhost:8080/",
          "height": 1000
        }
      },
      "source": [
        "checkpoint = ModelCheckpoint('./drive/My Drive/Music Generator/model.h5',monitor='loss',verbose=0,save_best_only=True,mode='min')\n",
        "model_hist = model.fit(normalized_X,Y,epochs=100,batch_size=64,callbacks=[checkpoint])"
      ],
      "execution_count": 13,
      "outputs": [
        {
          "output_type": "stream",
          "text": [
            "Epoch 1/100\n",
            "944/944 [==============================] - 100s 106ms/step - loss: 4.6924\n",
            "Epoch 2/100\n",
            "944/944 [==============================] - 100s 106ms/step - loss: 4.5138\n",
            "Epoch 3/100\n",
            "944/944 [==============================] - 100s 105ms/step - loss: 4.4049\n",
            "Epoch 4/100\n",
            "944/944 [==============================] - 101s 107ms/step - loss: 4.2410\n",
            "Epoch 5/100\n",
            "944/944 [==============================] - 101s 107ms/step - loss: 4.0260\n",
            "Epoch 6/100\n",
            "944/944 [==============================] - 100s 106ms/step - loss: 3.7392\n",
            "Epoch 7/100\n",
            "944/944 [==============================] - 101s 107ms/step - loss: 3.4065\n",
            "Epoch 8/100\n",
            "944/944 [==============================] - 100s 106ms/step - loss: 3.0629\n",
            "Epoch 9/100\n",
            "944/944 [==============================] - 101s 106ms/step - loss: 2.7304\n",
            "Epoch 10/100\n",
            "944/944 [==============================] - 100s 106ms/step - loss: 2.4144\n",
            "Epoch 11/100\n",
            "944/944 [==============================] - 100s 106ms/step - loss: 2.1386\n",
            "Epoch 12/100\n",
            "944/944 [==============================] - 100s 106ms/step - loss: 1.8924\n",
            "Epoch 13/100\n",
            "944/944 [==============================] - 100s 106ms/step - loss: 1.6724\n",
            "Epoch 14/100\n",
            "944/944 [==============================] - 100s 106ms/step - loss: 1.4858\n",
            "Epoch 15/100\n",
            "944/944 [==============================] - 100s 106ms/step - loss: 1.3233\n",
            "Epoch 16/100\n",
            "944/944 [==============================] - 100s 106ms/step - loss: 1.1656\n",
            "Epoch 17/100\n",
            "944/944 [==============================] - 100s 106ms/step - loss: 1.0542\n",
            "Epoch 18/100\n",
            "944/944 [==============================] - 102s 108ms/step - loss: 0.9356\n",
            "Epoch 19/100\n",
            "944/944 [==============================] - 100s 106ms/step - loss: 0.8512\n",
            "Epoch 20/100\n",
            "944/944 [==============================] - 100s 106ms/step - loss: 0.7565\n",
            "Epoch 21/100\n",
            "944/944 [==============================] - 100s 106ms/step - loss: 0.6912\n",
            "Epoch 22/100\n",
            "944/944 [==============================] - 101s 107ms/step - loss: 0.6332\n",
            "Epoch 23/100\n",
            "944/944 [==============================] - 100s 106ms/step - loss: 0.5829\n",
            "Epoch 24/100\n",
            "944/944 [==============================] - 100s 106ms/step - loss: 0.5312\n",
            "Epoch 25/100\n",
            "944/944 [==============================] - 100s 106ms/step - loss: 0.4962\n",
            "Epoch 26/100\n",
            "944/944 [==============================] - 100s 106ms/step - loss: 0.4546\n",
            "Epoch 27/100\n",
            "944/944 [==============================] - 101s 107ms/step - loss: 0.4273\n",
            "Epoch 28/100\n",
            "944/944 [==============================] - 100s 106ms/step - loss: 0.4004\n",
            "Epoch 29/100\n",
            "944/944 [==============================] - 101s 107ms/step - loss: 0.3858\n",
            "Epoch 30/100\n",
            "944/944 [==============================] - 100s 106ms/step - loss: 0.3614\n",
            "Epoch 31/100\n",
            "944/944 [==============================] - 100s 106ms/step - loss: 0.3428\n",
            "Epoch 32/100\n",
            "944/944 [==============================] - 100s 106ms/step - loss: 0.3334\n",
            "Epoch 33/100\n",
            "944/944 [==============================] - 102s 108ms/step - loss: 0.3194\n",
            "Epoch 34/100\n",
            "944/944 [==============================] - 100s 106ms/step - loss: 0.3039\n",
            "Epoch 35/100\n",
            "944/944 [==============================] - 100s 106ms/step - loss: 0.2858\n",
            "Epoch 36/100\n",
            "944/944 [==============================] - 100s 106ms/step - loss: 0.2809\n",
            "Epoch 37/100\n",
            "944/944 [==============================] - 102s 108ms/step - loss: 0.2672\n",
            "Epoch 38/100\n",
            "944/944 [==============================] - 100s 106ms/step - loss: 0.2671\n",
            "Epoch 39/100\n",
            "944/944 [==============================] - 100s 106ms/step - loss: 0.2538\n",
            "Epoch 40/100\n",
            "944/944 [==============================] - 100s 106ms/step - loss: 0.2526\n",
            "Epoch 41/100\n",
            "944/944 [==============================] - 96s 102ms/step - loss: 0.2585\n",
            "Epoch 42/100\n",
            "944/944 [==============================] - 100s 106ms/step - loss: 0.2328\n",
            "Epoch 43/100\n",
            "944/944 [==============================] - 101s 107ms/step - loss: 0.2298\n",
            "Epoch 44/100\n",
            "944/944 [==============================] - 96s 102ms/step - loss: 0.2442\n",
            "Epoch 45/100\n",
            "944/944 [==============================] - 101s 107ms/step - loss: 0.2229\n",
            "Epoch 46/100\n",
            "944/944 [==============================] - 100s 106ms/step - loss: 0.2143\n",
            "Epoch 47/100\n",
            "944/944 [==============================] - 101s 107ms/step - loss: 0.2070\n",
            "Epoch 48/100\n",
            "944/944 [==============================] - 97s 103ms/step - loss: 0.2253\n",
            "Epoch 49/100\n",
            "944/944 [==============================] - 102s 108ms/step - loss: 0.2000\n",
            "Epoch 50/100\n",
            "944/944 [==============================] - 98s 103ms/step - loss: 0.2017\n",
            "Epoch 51/100\n",
            "944/944 [==============================] - 97s 103ms/step - loss: 0.2021\n",
            "Epoch 52/100\n",
            "944/944 [==============================] - 97s 103ms/step - loss: 0.2087\n",
            "Epoch 53/100\n",
            "944/944 [==============================] - 101s 107ms/step - loss: 0.1942\n",
            "Epoch 54/100\n",
            "944/944 [==============================] - 102s 108ms/step - loss: 0.1927\n",
            "Epoch 55/100\n",
            "944/944 [==============================] - 97s 103ms/step - loss: 0.2041\n",
            "Epoch 56/100\n",
            "944/944 [==============================] - 101s 107ms/step - loss: 0.1818\n",
            "Epoch 57/100\n",
            "944/944 [==============================] - 101s 107ms/step - loss: 0.1806\n",
            "Epoch 58/100\n",
            "944/944 [==============================] - 97s 103ms/step - loss: 0.1864\n",
            "Epoch 59/100\n",
            "944/944 [==============================] - 97s 103ms/step - loss: 0.1838\n",
            "Epoch 60/100\n",
            "944/944 [==============================] - 101s 107ms/step - loss: 0.1705\n",
            "Epoch 61/100\n",
            "944/944 [==============================] - 97s 103ms/step - loss: 0.1761\n",
            "Epoch 62/100\n",
            "944/944 [==============================] - 97s 103ms/step - loss: 0.1717\n",
            "Epoch 63/100\n",
            "944/944 [==============================] - 101s 107ms/step - loss: 0.1674\n",
            "Epoch 64/100\n",
            "944/944 [==============================] - 97s 103ms/step - loss: 0.1711\n",
            "Epoch 65/100\n",
            "944/944 [==============================] - 97s 103ms/step - loss: 0.1727\n",
            "Epoch 66/100\n",
            "944/944 [==============================] - 101s 107ms/step - loss: 0.1663\n",
            "Epoch 67/100\n",
            "944/944 [==============================] - 101s 107ms/step - loss: 0.1655\n",
            "Epoch 68/100\n",
            "944/944 [==============================] - 101s 107ms/step - loss: 0.1537\n",
            "Epoch 69/100\n",
            "944/944 [==============================] - 97s 103ms/step - loss: 0.1686\n",
            "Epoch 70/100\n",
            "944/944 [==============================] - 97s 103ms/step - loss: 0.1588\n",
            "Epoch 71/100\n",
            "944/944 [==============================] - 97s 103ms/step - loss: 0.1553\n",
            "Epoch 72/100\n",
            "944/944 [==============================] - 97s 103ms/step - loss: 0.1560\n",
            "Epoch 73/100\n",
            "944/944 [==============================] - 97s 103ms/step - loss: 0.1643\n",
            "Epoch 74/100\n",
            "944/944 [==============================] - 96s 102ms/step - loss: 0.1556\n",
            "Epoch 75/100\n",
            "944/944 [==============================] - 101s 107ms/step - loss: 0.1451\n",
            "Epoch 76/100\n",
            "944/944 [==============================] - 96s 102ms/step - loss: 0.1480\n",
            "Epoch 77/100\n",
            "944/944 [==============================] - 96s 102ms/step - loss: 0.1639\n",
            "Epoch 78/100\n",
            "944/944 [==============================] - 100s 106ms/step - loss: 0.1439\n",
            "Epoch 79/100\n",
            "944/944 [==============================] - 96s 102ms/step - loss: 0.1465\n",
            "Epoch 80/100\n",
            "944/944 [==============================] - 97s 102ms/step - loss: 0.1541\n",
            "Epoch 81/100\n",
            "944/944 [==============================] - 101s 107ms/step - loss: 0.1389\n",
            "Epoch 82/100\n",
            "944/944 [==============================] - 96s 102ms/step - loss: 0.1399\n",
            "Epoch 83/100\n",
            "944/944 [==============================] - 96s 102ms/step - loss: 0.1447\n",
            "Epoch 84/100\n",
            "944/944 [==============================] - 97s 102ms/step - loss: 0.1402\n",
            "Epoch 85/100\n",
            "944/944 [==============================] - 97s 102ms/step - loss: 0.1432\n",
            "Epoch 86/100\n",
            "944/944 [==============================] - 101s 107ms/step - loss: 0.1384\n",
            "Epoch 87/100\n",
            "944/944 [==============================] - 101s 107ms/step - loss: 0.1333\n",
            "Epoch 88/100\n",
            "944/944 [==============================] - 96s 102ms/step - loss: 0.1412\n",
            "Epoch 89/100\n",
            "944/944 [==============================] - 96s 102ms/step - loss: 0.1409\n",
            "Epoch 90/100\n",
            "944/944 [==============================] - 96s 102ms/step - loss: 0.1393\n",
            "Epoch 91/100\n",
            "944/944 [==============================] - 96s 102ms/step - loss: 0.1460\n",
            "Epoch 92/100\n",
            "944/944 [==============================] - 101s 107ms/step - loss: 0.1286\n",
            "Epoch 93/100\n",
            "944/944 [==============================] - 96s 102ms/step - loss: 0.1289\n",
            "Epoch 94/100\n",
            "944/944 [==============================] - 96s 102ms/step - loss: 0.1315\n",
            "Epoch 95/100\n",
            "944/944 [==============================] - 96s 102ms/step - loss: 0.1483\n",
            "Epoch 96/100\n",
            "944/944 [==============================] - 96s 102ms/step - loss: 0.1325\n",
            "Epoch 97/100\n",
            "944/944 [==============================] - 96s 102ms/step - loss: 0.1302\n",
            "Epoch 98/100\n",
            "944/944 [==============================] - 96s 102ms/step - loss: 0.1343\n",
            "Epoch 99/100\n",
            "944/944 [==============================] - 96s 102ms/step - loss: 0.1345\n",
            "Epoch 100/100\n",
            "944/944 [==============================] - 101s 107ms/step - loss: 0.1260\n"
          ],
          "name": "stdout"
        }
      ]
    }
  ]
}